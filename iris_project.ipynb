{
  "nbformat": 4,
  "nbformat_minor": 0,
  "metadata": {
    "colab": {
      "name": "iris_project.ipynb",
      "provenance": [],
      "collapsed_sections": [],
      "authorship_tag": "ABX9TyMUEHR00Lk63ns+JZ6SKUGR",
      "include_colab_link": true
    },
    "kernelspec": {
      "name": "python3",
      "display_name": "Python 3"
    },
    "language_info": {
      "name": "python"
    }
  },
  "cells": [
    {
      "cell_type": "markdown",
      "metadata": {
        "id": "view-in-github",
        "colab_type": "text"
      },
      "source": [
        "<a href=\"https://colab.research.google.com/github/NandiniAgrawal15/Iris-Project/blob/main/iris_project.ipynb\" target=\"_parent\"><img src=\"https://colab.research.google.com/assets/colab-badge.svg\" alt=\"Open In Colab\"/></a>"
      ]
    },
    {
      "cell_type": "code",
      "metadata": {
        "id": "FCKj8WfHSCE3"
      },
      "source": [
        "from sklearn.datasets import load_iris\n",
        "iris_dataset=load_iris()"
      ],
      "execution_count": 1,
      "outputs": []
    },
    {
      "cell_type": "code",
      "metadata": {
        "id": "oqk_o09VSV_M"
      },
      "source": [
        "#Keys \n",
        "print(f\"The keys of the dataset are:{iris_dataset.keys()}\")"
      ],
      "execution_count": null,
      "outputs": []
    },
    {
      "cell_type": "code",
      "metadata": {
        "id": "1mCsJi1CSfem"
      },
      "source": [
        "#Target-Names :- The target are those which will be distinguished by using features by the machine learning Model.\n",
        "print(f\"The target_names are :{iris_dataset['target_names']}\")"
      ],
      "execution_count": null,
      "outputs": []
    },
    {
      "cell_type": "code",
      "metadata": {
        "id": "02WqAz4mSvcI"
      },
      "source": [
        "#DESCR- It gives the description of the Dataset. \n",
        "print(f\"The description are :{iris_dataset['DESCR']}\")"
      ],
      "execution_count": null,
      "outputs": []
    },
    {
      "cell_type": "code",
      "metadata": {
        "id": "adzh7B1ATG8T"
      },
      "source": [
        "#Target shows the arrangement of various targets in the Dataset.\n",
        "print(f\"The target are :{iris_dataset['target']}\")"
      ],
      "execution_count": null,
      "outputs": []
    },
    {
      "cell_type": "code",
      "metadata": {
        "id": "qUQFcCffTSWq"
      },
      "source": [
        "#Features are used to distinguish between Various Targets.\n",
        "print(f\"The FEATURE_names are :{iris_dataset['feature_names']}\")"
      ],
      "execution_count": null,
      "outputs": []
    },
    {
      "cell_type": "code",
      "metadata": {
        "id": "XdNI6o5ETaAW"
      },
      "source": [
        "print(f\"The data-type of the data are :{type(iris_dataset['target'])}\")"
      ],
      "execution_count": null,
      "outputs": []
    },
    {
      "cell_type": "code",
      "metadata": {
        "id": "TxamYd-tT0h5"
      },
      "source": [
        "#The shape of the dataset.\n",
        "print(\"shape of data {}\".format(iris_dataset['data'].shape))"
      ],
      "execution_count": null,
      "outputs": []
    },
    {
      "cell_type": "code",
      "metadata": {
        "id": "FiT1N51RUW4C"
      },
      "source": [
        "print(\"data:\\n {}\".format(iris_dataset['data'][143:]))"
      ],
      "execution_count": null,
      "outputs": []
    },
    {
      "cell_type": "code",
      "metadata": {
        "id": "VO7_t99pUer-"
      },
      "source": [
        "#Spliting of the dataset between Testing and Training Model using train_test_model\n",
        "from sklearn.model_selection import train_test_split\n",
        "X_train, X_test,y_train,y_test=train_test_split(iris_dataset['data'],iris_dataset['target'],random_state=0)"
      ],
      "execution_count": null,
      "outputs": []
    },
    {
      "cell_type": "code",
      "metadata": {
        "id": "2inr4hlLWVuN"
      },
      "source": [
        "#Shape of testing and Training model.\n",
        "print(f\"X test : {X_test.shape}\")\n",
        "print(f\"X train : {X_train.shape}\")"
      ],
      "execution_count": null,
      "outputs": []
    },
    {
      "cell_type": "code",
      "metadata": {
        "id": "W-fvvtoWWqGc"
      },
      "source": [
        "print(f\"y test : {y_test.shape}\")\n",
        "print(f\"y train : {y_train.shape}\")"
      ],
      "execution_count": null,
      "outputs": []
    },
    {
      "cell_type": "code",
      "metadata": {
        "id": "l4-6pq82M7BK"
      },
      "source": [
        "!pip install matplotlib-venn"
      ],
      "execution_count": null,
      "outputs": []
    },
    {
      "cell_type": "code",
      "metadata": {
        "id": "hTe13mW3NTmX"
      },
      "source": [
        "pip install mglearn"
      ],
      "execution_count": null,
      "outputs": []
    },
    {
      "cell_type": "code",
      "metadata": {
        "id": "a-M4UaYAMjNM"
      },
      "source": [
        "import pandas as pd\n",
        "import mglearn"
      ],
      "execution_count": null,
      "outputs": []
    },
    {
      "cell_type": "code",
      "metadata": {
        "id": "06kvFR5vW5J9"
      },
      "source": [
        "# Visiualization of Features.\n",
        "# create dataframe from data in X_train\n",
        "# label the columns using the strings in iris_dataset.feature_names\n",
        "iris_dataframe = pd.DataFrame(X_train, columns=iris_dataset.feature_names)\n",
        "# create a scatter matrix from the dataframe, color by y_train\n",
        "pd.plotting.scatter_matrix(iris_dataframe, c=y_train, figsize=(10, 10),\n",
        " marker='o', hist_kwds={'bins': 20}, s=60,\n",
        " alpha=.8, cmap=mglearn.cm3)"
      ],
      "execution_count": null,
      "outputs": []
    },
    {
      "cell_type": "code",
      "metadata": {
        "id": "KV6RrObfMh2k"
      },
      "source": [
        "#Applying kNN Algorithm\n",
        "from sklearn.neighbors import KNeighborsClassifier\n",
        "knn=KNeighborsClassifier(n_neighbors=3)"
      ],
      "execution_count": null,
      "outputs": []
    },
    {
      "cell_type": "code",
      "metadata": {
        "id": "LBoq_Ihh2nJy"
      },
      "source": [
        "#Fitting of training  Data.\n",
        "knn.fit(X_train,y_train)"
      ],
      "execution_count": null,
      "outputs": []
    },
    {
      "cell_type": "code",
      "metadata": {
        "id": "5ie6gWpv3xo3"
      },
      "source": [
        "import numpy as np"
      ],
      "execution_count": null,
      "outputs": []
    },
    {
      "cell_type": "code",
      "metadata": {
        "id": "ZORpgV5e2suw"
      },
      "source": [
        "X_new=np.array([[5.6,2.5,1,0.3],[6.7,3.3,2.8,2.5]])\n",
        "print(\"X_NEW SHAPE : {}\".format(X_new.shape))"
      ],
      "execution_count": null,
      "outputs": []
    },
    {
      "cell_type": "code",
      "metadata": {
        "id": "yw3OE7ul3t2G"
      },
      "source": [
        "#Prediction of a new Iris.\n",
        "predict=knn.predict(X_new)"
      ],
      "execution_count": null,
      "outputs": []
    },
    {
      "cell_type": "code",
      "metadata": {
        "id": "Nww2mwaB4bns"
      },
      "source": [
        "print(\"Prediction : {}\".format(predict))"
      ],
      "execution_count": null,
      "outputs": []
    },
    {
      "cell_type": "code",
      "metadata": {
        "id": "HK_56JCe4inI"
      },
      "source": [
        "print(\"Predicted names: {}\".format(iris_dataset['target_names'][predict]))"
      ],
      "execution_count": null,
      "outputs": []
    },
    {
      "cell_type": "code",
      "metadata": {
        "id": "AUrWkGXs4u0b"
      },
      "source": [
        "y_pred=knn.predict(X_test)"
      ],
      "execution_count": null,
      "outputs": []
    },
    {
      "cell_type": "code",
      "metadata": {
        "id": "fcIGTZPY5XCj"
      },
      "source": [
        "print(\"predicted name :{}\".format([y_pred]))"
      ],
      "execution_count": null,
      "outputs": []
    },
    {
      "cell_type": "code",
      "metadata": {
        "id": "_CfAGtLs5dUl"
      },
      "source": [
        "#Calculating the predictability of the model.\n",
        "print(\"Test_Score : {:.2f}\".format(np.mean(y_pred==y_test)))"
      ],
      "execution_count": null,
      "outputs": []
    }
  ]
}